{
 "cells": [
  {
   "cell_type": "code",
   "execution_count": 1,
   "id": "04e5cace-c7f6-4899-9790-b0fc2442f672",
   "metadata": {},
   "outputs": [],
   "source": [
    "#Importing Necessary Libraries \n",
    "import pandas as pd\n",
    "from pandas import read_csv\n",
    "import numpy as np\n",
    "import matplotlib.pyplot as plt"
   ]
  },
  {
   "cell_type": "code",
   "execution_count": 2,
   "id": "96b6abae-9b2d-48ca-b00d-6730fe0885d5",
   "metadata": {},
   "outputs": [
    {
     "data": {
      "text/html": [
       "<div>\n",
       "<style scoped>\n",
       "    .dataframe tbody tr th:only-of-type {\n",
       "        vertical-align: middle;\n",
       "    }\n",
       "\n",
       "    .dataframe tbody tr th {\n",
       "        vertical-align: top;\n",
       "    }\n",
       "\n",
       "    .dataframe thead th {\n",
       "        text-align: right;\n",
       "    }\n",
       "</style>\n",
       "<table border=\"1\" class=\"dataframe\">\n",
       "  <thead>\n",
       "    <tr style=\"text-align: right;\">\n",
       "      <th></th>\n",
       "      <th>Drug</th>\n",
       "      <th>Disease</th>\n",
       "      <th>Gender</th>\n",
       "      <th>Age</th>\n",
       "    </tr>\n",
       "  </thead>\n",
       "  <tbody>\n",
       "    <tr>\n",
       "      <th>0</th>\n",
       "      <td>A CN Gel(Topical) 20gmA CN Soap 75gm</td>\n",
       "      <td>Acne</td>\n",
       "      <td>Male</td>\n",
       "      <td>23</td>\n",
       "    </tr>\n",
       "    <tr>\n",
       "      <th>1</th>\n",
       "      <td>A Ret 0.05% Gel 20gmA Ret 0.1% Gel 20gmA Ret 0...</td>\n",
       "      <td>Acne</td>\n",
       "      <td>Male</td>\n",
       "      <td>23</td>\n",
       "    </tr>\n",
       "    <tr>\n",
       "      <th>2</th>\n",
       "      <td>ACGEL CL NANO Gel 15gm</td>\n",
       "      <td>Acne</td>\n",
       "      <td>Male</td>\n",
       "      <td>23</td>\n",
       "    </tr>\n",
       "    <tr>\n",
       "      <th>3</th>\n",
       "      <td>ACGEL NANO Gel 15gm</td>\n",
       "      <td>Acne</td>\n",
       "      <td>Male</td>\n",
       "      <td>23</td>\n",
       "    </tr>\n",
       "    <tr>\n",
       "      <th>4</th>\n",
       "      <td>Acleen 1% Lotion 25ml</td>\n",
       "      <td>Acne</td>\n",
       "      <td>Male</td>\n",
       "      <td>23</td>\n",
       "    </tr>\n",
       "    <tr>\n",
       "      <th>5</th>\n",
       "      <td>Aclene 0.10% Gel 15gm</td>\n",
       "      <td>Acne</td>\n",
       "      <td>Male</td>\n",
       "      <td>23</td>\n",
       "    </tr>\n",
       "    <tr>\n",
       "      <th>6</th>\n",
       "      <td>Acnay Gel 10gm</td>\n",
       "      <td>Acne</td>\n",
       "      <td>Male</td>\n",
       "      <td>23</td>\n",
       "    </tr>\n",
       "    <tr>\n",
       "      <th>7</th>\n",
       "      <td>Acne Aid Bar 50gmAcne Aid Bar 100gm</td>\n",
       "      <td>Acne</td>\n",
       "      <td>Male</td>\n",
       "      <td>23</td>\n",
       "    </tr>\n",
       "    <tr>\n",
       "      <th>8</th>\n",
       "      <td>Acne UV Gel 60gm</td>\n",
       "      <td>Acne</td>\n",
       "      <td>Male</td>\n",
       "      <td>23</td>\n",
       "    </tr>\n",
       "    <tr>\n",
       "      <th>9</th>\n",
       "      <td>Acne UV SPF 30 Gel 30gm</td>\n",
       "      <td>Acne</td>\n",
       "      <td>Male</td>\n",
       "      <td>23</td>\n",
       "    </tr>\n",
       "  </tbody>\n",
       "</table>\n",
       "</div>"
      ],
      "text/plain": [
       "                                                Drug Disease Gender  Age\n",
       "0               A CN Gel(Topical) 20gmA CN Soap 75gm    Acne   Male   23\n",
       "1  A Ret 0.05% Gel 20gmA Ret 0.1% Gel 20gmA Ret 0...    Acne   Male   23\n",
       "2                             ACGEL CL NANO Gel 15gm    Acne   Male   23\n",
       "3                                ACGEL NANO Gel 15gm    Acne   Male   23\n",
       "4                              Acleen 1% Lotion 25ml    Acne   Male   23\n",
       "5                              Aclene 0.10% Gel 15gm    Acne   Male   23\n",
       "6                                     Acnay Gel 10gm    Acne   Male   23\n",
       "7                Acne Aid Bar 50gmAcne Aid Bar 100gm    Acne   Male   23\n",
       "8                                   Acne UV Gel 60gm    Acne   Male   23\n",
       "9                            Acne UV SPF 30 Gel 30gm    Acne   Male   23"
      ]
     },
     "execution_count": 2,
     "metadata": {},
     "output_type": "execute_result"
    }
   ],
   "source": [
    "# Loading Dataset\n",
    "filename = 'Drug.csv'\n",
    "data = read_csv(filename)\n",
    "data.head(10)"
   ]
  },
  {
   "cell_type": "code",
   "execution_count": 3,
   "id": "7348d5e6-0e65-4308-8d80-618620117a84",
   "metadata": {},
   "outputs": [
    {
     "data": {
      "text/plain": [
       "(4955, 4)"
      ]
     },
     "execution_count": 3,
     "metadata": {},
     "output_type": "execute_result"
    }
   ],
   "source": [
    "data.shape"
   ]
  },
  {
   "cell_type": "code",
   "execution_count": 4,
   "id": "4186031b-51ee-4cbe-8f90-75fbcc53cf3e",
   "metadata": {},
   "outputs": [
    {
     "data": {
      "text/plain": [
       "Drug       object\n",
       "Disease    object\n",
       "Gender     object\n",
       "Age         int64\n",
       "dtype: object"
      ]
     },
     "execution_count": 4,
     "metadata": {},
     "output_type": "execute_result"
    }
   ],
   "source": [
    "data.dtypes\n"
   ]
  },
  {
   "cell_type": "code",
   "execution_count": 5,
   "id": "ae20acf4-cc94-4100-85a3-42a5bb3d1349",
   "metadata": {},
   "outputs": [
    {
     "data": {
      "text/plain": [
       "Drug       0\n",
       "Disease    0\n",
       "Gender     0\n",
       "Age        0\n",
       "dtype: int64"
      ]
     },
     "execution_count": 5,
     "metadata": {},
     "output_type": "execute_result"
    }
   ],
   "source": [
    "#Checking for missing values\n",
    "data.isnull().sum()"
   ]
  },
  {
   "cell_type": "code",
   "execution_count": 6,
   "id": "a5ea38c2-19f3-476e-892d-761640d8809b",
   "metadata": {},
   "outputs": [
    {
     "data": {
      "text/plain": [
       "array(['Acne', 'Allergy', 'Diabetes', 'Fungal infection',\n",
       "       'Urinary tract infection', 'Malaria', 'Migraine', 'Hepatitis B',\n",
       "       'AIDS'], dtype=object)"
      ]
     },
     "execution_count": 6,
     "metadata": {},
     "output_type": "execute_result"
    }
   ],
   "source": [
    "data['Disease'].unique()"
   ]
  },
  {
   "cell_type": "code",
   "execution_count": 7,
   "id": "1374eb54-991c-4640-908d-00da5cf97726",
   "metadata": {},
   "outputs": [
    {
     "data": {
      "text/html": [
       "<div>\n",
       "<style scoped>\n",
       "    .dataframe tbody tr th:only-of-type {\n",
       "        vertical-align: middle;\n",
       "    }\n",
       "\n",
       "    .dataframe tbody tr th {\n",
       "        vertical-align: top;\n",
       "    }\n",
       "\n",
       "    .dataframe thead th {\n",
       "        text-align: right;\n",
       "    }\n",
       "</style>\n",
       "<table border=\"1\" class=\"dataframe\">\n",
       "  <thead>\n",
       "    <tr style=\"text-align: right;\">\n",
       "      <th></th>\n",
       "      <th>Drug</th>\n",
       "      <th>Disease</th>\n",
       "      <th>Gender</th>\n",
       "      <th>Age</th>\n",
       "    </tr>\n",
       "  </thead>\n",
       "  <tbody>\n",
       "    <tr>\n",
       "      <th>0</th>\n",
       "      <td>A CN Gel(Topical) 20gmA CN Soap 75gm</td>\n",
       "      <td>0</td>\n",
       "      <td>1</td>\n",
       "      <td>23</td>\n",
       "    </tr>\n",
       "    <tr>\n",
       "      <th>1</th>\n",
       "      <td>A Ret 0.05% Gel 20gmA Ret 0.1% Gel 20gmA Ret 0...</td>\n",
       "      <td>0</td>\n",
       "      <td>1</td>\n",
       "      <td>23</td>\n",
       "    </tr>\n",
       "    <tr>\n",
       "      <th>2</th>\n",
       "      <td>ACGEL CL NANO Gel 15gm</td>\n",
       "      <td>0</td>\n",
       "      <td>1</td>\n",
       "      <td>23</td>\n",
       "    </tr>\n",
       "    <tr>\n",
       "      <th>3</th>\n",
       "      <td>ACGEL NANO Gel 15gm</td>\n",
       "      <td>0</td>\n",
       "      <td>1</td>\n",
       "      <td>23</td>\n",
       "    </tr>\n",
       "    <tr>\n",
       "      <th>4</th>\n",
       "      <td>Acleen 1% Lotion 25ml</td>\n",
       "      <td>0</td>\n",
       "      <td>1</td>\n",
       "      <td>23</td>\n",
       "    </tr>\n",
       "  </tbody>\n",
       "</table>\n",
       "</div>"
      ],
      "text/plain": [
       "                                                Drug  Disease  Gender  Age\n",
       "0               A CN Gel(Topical) 20gmA CN Soap 75gm        0       1   23\n",
       "1  A Ret 0.05% Gel 20gmA Ret 0.1% Gel 20gmA Ret 0...        0       1   23\n",
       "2                             ACGEL CL NANO Gel 15gm        0       1   23\n",
       "3                                ACGEL NANO Gel 15gm        0       1   23\n",
       "4                              Acleen 1% Lotion 25ml        0       1   23"
      ]
     },
     "execution_count": 7,
     "metadata": {},
     "output_type": "execute_result"
    }
   ],
   "source": [
    "data.replace({'Gender': {'Female':0, 'Male':1}}, inplace=True)\n",
    "data.replace({'Disease': {'Acne':0, 'Allergy':1, 'Diabetes':2, 'Fungal infection':3,\n",
    "       'Urinary tract infection':4, 'Malaria':5, 'Migraine':6, 'Hepatitis B':7,\n",
    "       'AIDS':8}}, inplace=True)\n",
    "data.head()"
   ]
  },
  {
   "cell_type": "code",
   "execution_count": 8,
   "id": "7fabd8c6-490f-4351-b41a-66320b65de1a",
   "metadata": {},
   "outputs": [],
   "source": [
    "# Feature selection\n",
    "df_x = data[['Disease', 'Gender','Age']]\n",
    "df_y = data[['Drug']]"
   ]
  },
  {
   "cell_type": "code",
   "execution_count": 9,
   "id": "46f8eaae-b9a4-4d2a-a61c-fd874eb4acdf",
   "metadata": {},
   "outputs": [],
   "source": [
    "# Train test split\n",
    "from sklearn.model_selection import train_test_split\n",
    "X_train, X_test, y_train, y_test = train_test_split(df_x, df_y, test_size=0.2, random_state=0)"
   ]
  },
  {
   "cell_type": "code",
   "execution_count": 10,
   "id": "91e0b084-73f6-4c3e-be68-a535d89b24fc",
   "metadata": {},
   "outputs": [],
   "source": [
    "# Training the model\n",
    "# from sklearn.tree import DecisonTreeClassifier\n",
    "from sklearn import tree\n",
    "from sklearn.ensemble import RandomForestClassifier\n",
    "from sklearn.linear_model import LogisticRegression\n",
    "from sklearn.metrics import accuracy_score"
   ]
  },
  {
   "cell_type": "code",
   "execution_count": 11,
   "id": "c7375648-c4a8-4fdd-b4b6-e4f06589c25f",
   "metadata": {},
   "outputs": [
    {
     "name": "stdout",
     "output_type": "stream",
     "text": [
      "Decision Tree Accuracy: 0.039354187689202826\n"
     ]
    }
   ],
   "source": [
    "# Decision tree\n",
    "dt_classifier = tree.DecisionTreeClassifier()\n",
    "dt_classifier.fit(df_x, df_y)\n",
    "dt_predictions = dt_classifier.predict(X_test)\n",
    "dt_accuracy = accuracy_score(y_test, dt_predictions)\n",
    "print(\"Decision Tree Accuracy:\", dt_accuracy)"
   ]
  },
  {
   "cell_type": "code",
   "execution_count": 12,
   "id": "9880d513-a128-4928-8fc0-a4bfba795d40",
   "metadata": {},
   "outputs": [
    {
     "name": "stderr",
     "output_type": "stream",
     "text": [
      "C:\\Users\\ogbed\\AppData\\Local\\Temp\\ipykernel_36820\\2390585991.py:3: DataConversionWarning: A column-vector y was passed when a 1d array was expected. Please change the shape of y to (n_samples,), for example using ravel().\n",
      "  rf_classifier.fit(df_x, df_y)\n"
     ]
    },
    {
     "name": "stdout",
     "output_type": "stream",
     "text": [
      "Random Forest Accuracy: 0.03733602421796166\n"
     ]
    }
   ],
   "source": [
    "# Random Forest\n",
    "rf_classifier = RandomForestClassifier()\n",
    "rf_classifier.fit(df_x, df_y)\n",
    "rf_predictions = rf_classifier.predict(X_test)\n",
    "rf_accuracy = accuracy_score(y_test, rf_predictions)\n",
    "print(\"Random Forest Accuracy:\", rf_accuracy)"
   ]
  },
  {
   "cell_type": "code",
   "execution_count": 13,
   "id": "ea1b9b7f-0f65-4510-9e76-50ef48be5fa6",
   "metadata": {},
   "outputs": [
    {
     "data": {
      "text/plain": [
       "['model/drug_dt_classifier.pkl']"
      ]
     },
     "execution_count": 13,
     "metadata": {},
     "output_type": "execute_result"
    }
   ],
   "source": [
    "# Dump the model to the disk\n",
    "import joblib as joblib\n",
    "joblib.dump(dt_classifier, 'model/drug_dt_classifier.pkl')"
   ]
  },
  {
   "cell_type": "code",
   "execution_count": 17,
   "id": "e7381baf-c330-47eb-a8e6-6d5901de71d0",
   "metadata": {},
   "outputs": [],
   "source": [
    "# Loading a model to a project\n",
    "loaded_dt_classifier = joblib.load('model/drug_dt_classifier.pkl')"
   ]
  },
  {
   "cell_type": "code",
   "execution_count": 18,
   "id": "d058151a-cf58-45a8-a712-3dc6da3a5ae7",
   "metadata": {},
   "outputs": [],
   "source": [
    "list_c = [5,0,23]\n",
    "data_to_predict = np.array(list_c).reshape(1,-1)"
   ]
  },
  {
   "cell_type": "code",
   "execution_count": 19,
   "id": "14aceb33-8fd7-4031-9192-48d0554e3640",
   "metadata": {
    "scrolled": true
   },
   "outputs": [
    {
     "name": "stdout",
     "output_type": "stream",
     "text": [
      "['ARH 1 150mg Injection 1ml']\n"
     ]
    },
    {
     "name": "stderr",
     "output_type": "stream",
     "text": [
      "C:\\Users\\ogbed\\anaconda3\\lib\\site-packages\\sklearn\\base.py:450: UserWarning: X does not have valid feature names, but DecisionTreeClassifier was fitted with feature names\n",
      "  warnings.warn(\n"
     ]
    }
   ],
   "source": [
    "prediction_result = loaded_dt_classifier.predict(data_to_predict)\n",
    "print(prediction_result)"
   ]
  },
  {
   "cell_type": "code",
   "execution_count": null,
   "id": "d25ad8e4-3d9e-4bae-84a9-115db9ffffce",
   "metadata": {},
   "outputs": [],
   "source": []
  }
 ],
 "metadata": {
  "kernelspec": {
   "display_name": "Python 3 (ipykernel)",
   "language": "python",
   "name": "python3"
  },
  "language_info": {
   "codemirror_mode": {
    "name": "ipython",
    "version": 3
   },
   "file_extension": ".py",
   "mimetype": "text/x-python",
   "name": "python",
   "nbconvert_exporter": "python",
   "pygments_lexer": "ipython3",
   "version": "3.9.12"
  }
 },
 "nbformat": 4,
 "nbformat_minor": 5
}
